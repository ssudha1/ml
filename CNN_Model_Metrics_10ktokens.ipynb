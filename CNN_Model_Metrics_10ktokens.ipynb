{
 "cells": [
  {
   "cell_type": "code",
   "execution_count": 31,
   "id": "333fa387",
   "metadata": {},
   "outputs": [],
   "source": [
    "import torch\n",
    "import torchvision\n",
    "from torchvision import transforms\n",
    "from torchvision.datasets import ImageFolder"
   ]
  },
  {
   "cell_type": "code",
   "execution_count": 32,
   "id": "85bd2dd2",
   "metadata": {},
   "outputs": [],
   "source": [
    "train_path = 'CNN_10ktokens/train'\n",
    "test_path = 'CNN_10ktokens/test'\n",
    "valid_path = 'CNN_10ktokens/validation'"
   ]
  },
  {
   "cell_type": "code",
   "execution_count": 33,
   "id": "6700c05e",
   "metadata": {},
   "outputs": [],
   "source": [
    "img_height = 288\n",
    "img_width = 432 "
   ]
  },
  {
   "cell_type": "code",
   "execution_count": 34,
   "id": "12b56035",
   "metadata": {},
   "outputs": [],
   "source": [
    "train_dataset = ImageFolder(train_path,transform = transforms.Compose([\n",
    "    transforms.Resize((150,150)),transforms.ToTensor()\n",
    "]))\n",
    "val_dataset = ImageFolder(valid_path,transform = transforms.Compose([\n",
    "    transforms.Resize((150,150)),transforms.ToTensor()\n",
    "]))\n",
    "test_dataset = ImageFolder(test_path,transform = transforms.Compose([\n",
    "    transforms.Resize((150,150)),transforms.ToTensor()\n",
    "]))"
   ]
  },
  {
   "cell_type": "code",
   "execution_count": 35,
   "id": "0d26e32f",
   "metadata": {},
   "outputs": [],
   "source": [
    "from torch.utils.data.dataloader import DataLoader\n",
    "batch_size=16\n",
    "train_dl = DataLoader(train_dataset, batch_size, shuffle = True, num_workers = 4, pin_memory = True)\n",
    "val_dl = DataLoader(val_dataset, batch_size, num_workers = 4, pin_memory = True)\n",
    "test_dl = DataLoader(test_dataset, batch_size, num_workers = 4, pin_memory = True)"
   ]
  },
  {
   "cell_type": "code",
   "execution_count": 36,
   "id": "9537276f",
   "metadata": {},
   "outputs": [],
   "source": [
    "import torch.nn as nn\n",
    "import torch.nn.functional as F\n",
    "\n",
    "def accuracy(outputs, labels):\n",
    "    _, preds = torch.max(outputs, dim=1)\n",
    "    return torch.tensor(torch.sum(preds == labels).item() / len(preds))\n",
    "\n",
    "def confusion(prediction, truth):\n",
    "    \"\"\" Returns the confusion matrix for the values in the `prediction` and `truth`\n",
    "    tensors, i.e. the amount of positions where the values of `prediction`\n",
    "    and `truth` are\n",
    "    - 1 and 1 (True Positive)\n",
    "    - 1 and 0 (False Positive)\n",
    "    - 0 and 0 (True Negative)\n",
    "    - 0 and 1 (False Negative)\n",
    "    \"\"\"\n",
    "\n",
    "    confusion_vector = prediction / truth\n",
    "    # Element-wise division of the 2 tensors returns a new tensor which holds a\n",
    "    # unique value for each case:\n",
    "    #   1     where prediction and truth are 1 (True Positive)\n",
    "    #   inf   where prediction is 1 and truth is 0 (False Positive)\n",
    "    #   nan   where prediction and truth are 0 (True Negative)\n",
    "    #   0     where prediction is 0 and truth is 1 (False Negative)\n",
    "\n",
    "    true_positives = torch.sum(confusion_vector == 1)\n",
    "    false_positives = torch.sum(confusion_vector == float('inf'))\n",
    "    true_negatives = torch.sum(torch.isnan(confusion_vector))\n",
    "    false_negatives = torch.sum(confusion_vector == 0)\n",
    "\n",
    "    return true_positives, false_positives, true_negatives, false_negatives\n",
    "\n",
    "class ImageClassificationBase(nn.Module):\n",
    "    \n",
    "    def training_step(self, batch):\n",
    "        images, labels = batch \n",
    "        out = self(images)                  # Generate predictions\n",
    "        loss = F.cross_entropy(out, labels) # Calculate loss\n",
    "        return loss\n",
    "    \n",
    "    def validation_step(self, batch):\n",
    "        images, labels = batch \n",
    "        out = self(images)                    # Generate predictions\n",
    "        loss = F.cross_entropy(out, labels)   # Calculate loss\n",
    "        acc = accuracy(out, labels)           # Calculate accuracy\n",
    "        tp,fp,tn,fn = confusion(torch.argmax(out,1),labels)\n",
    "        return {'val_loss': loss.detach(), 'val_acc': acc,'True Positive':tp,'False Positive':fp,'True Negative':tn,'False Negative':fn}\n",
    "        \n",
    "    def validation_epoch_end(self, outputs):\n",
    "        batch_losses = [x['val_loss'] for x in outputs]\n",
    "        epoch_loss = torch.stack(batch_losses).mean()   # Combine losses\n",
    "        batch_accs = [x['val_acc'] for x in outputs]\n",
    "        epoch_acc = torch.stack(batch_accs).mean()      # Combine accuracies\n",
    "        batch_tp = [x['True Positive'] for x in outputs]\n",
    "        epoch_tp = torch.stack(batch_tp).sum()\n",
    "        batch_fp = [x['False Positive'] for x in outputs]\n",
    "        epoch_fp = torch.stack(batch_fp).sum()\n",
    "        batch_tn = [x['True Negative'] for x in outputs]\n",
    "        epoch_tn = torch.stack(batch_tn).sum()\n",
    "        batch_fn = [x['False Negative'] for x in outputs]\n",
    "        epoch_fn = torch.stack(batch_fn).sum()\n",
    "        return {'val_loss': epoch_loss.item(), 'val_acc': epoch_acc.item(),'True Positive':epoch_tp.item(),'False Positive':epoch_fp.item(),'True Negative':epoch_tn.item(),'False Negative':epoch_fn.item()}\n",
    "    \n",
    "    def epoch_end(self, epoch, result):\n",
    "        print(\"Epoch [{}], train_loss: {:.4f}, val_loss: {:.4f}, val_acc: {:.4f}\".format(\n",
    "            epoch, result['train_loss'], result['val_loss'], result['val_acc']))"
   ]
  },
  {
   "cell_type": "code",
   "execution_count": 37,
   "id": "2151e177",
   "metadata": {},
   "outputs": [],
   "source": [
    "class malwareClassification(ImageClassificationBase):\n",
    "    def __init__(self):\n",
    "        super().__init__()\n",
    "        self.network = nn.Sequential(\n",
    "            \n",
    "            nn.Conv2d(3, 32, kernel_size = 3, padding = 1),\n",
    "            nn.ReLU(),\n",
    "            nn.Conv2d(32,64, kernel_size = 3, stride = 1, padding = 1),\n",
    "            nn.ReLU(),\n",
    "            nn.MaxPool2d(2,2),\n",
    "            nn.Flatten(),\n",
    "            nn.Linear(360000,2)\n",
    "        )\n",
    "    \n",
    "    def forward(self, xb):\n",
    "        return self.network(xb)"
   ]
  },
  {
   "cell_type": "code",
   "execution_count": 38,
   "id": "01b80a52",
   "metadata": {},
   "outputs": [],
   "source": [
    "@torch.no_grad()\n",
    "def evaluate(model, val_loader):\n",
    "    model.eval()\n",
    "    outputs = [model.validation_step(batch) for batch in val_loader]\n",
    "    return model.validation_epoch_end(outputs)\n",
    "\n",
    "def fit(epochs, lr, model, train_loader, val_loader, opt_func = torch.optim.SGD):\n",
    "    \n",
    "    history = []\n",
    "    optimizer = opt_func(model.parameters(),lr)\n",
    "    for epoch in range(epochs):\n",
    "        \n",
    "        model.train()\n",
    "        train_losses = []\n",
    "        for batch in train_loader:\n",
    "            loss = model.training_step(batch)\n",
    "            train_losses.append(loss)\n",
    "            loss.backward()\n",
    "            optimizer.step()\n",
    "            optimizer.zero_grad()\n",
    "            \n",
    "        result = evaluate(model, val_loader)\n",
    "        result['train_loss'] = torch.stack(train_losses).mean().item()\n",
    "        model.epoch_end(epoch, result)\n",
    "        history.append(result)\n",
    "        torch.save(model.state_dict(), 'Saved_models/'+'malware_class_10k_tok_'+ str(result['val_acc'])+'.pth')\n",
    "    \n",
    "    return history"
   ]
  },
  {
   "cell_type": "code",
   "execution_count": 39,
   "id": "39925be9",
   "metadata": {},
   "outputs": [],
   "source": [
    "num_epochs = 50\n",
    "opt_func = torch.optim.Adam\n",
    "lr = 0.001\n",
    "model = malwareClassification()"
   ]
  },
  {
   "cell_type": "code",
   "execution_count": 43,
   "id": "fef6c3cb",
   "metadata": {},
   "outputs": [
    {
     "name": "stdout",
     "output_type": "stream",
     "text": [
      "Epoch [0], train_loss: 0.0691, val_loss: 5.1165, val_acc: 0.7885\n",
      "Epoch [1], train_loss: 0.0531, val_loss: 6.1252, val_acc: 0.7933\n",
      "Epoch [2], train_loss: 0.0353, val_loss: 6.4329, val_acc: 0.7933\n",
      "Epoch [3], train_loss: 0.0339, val_loss: 5.9916, val_acc: 0.7933\n",
      "Epoch [4], train_loss: 0.0333, val_loss: 6.4386, val_acc: 0.7933\n",
      "Epoch [5], train_loss: 0.0337, val_loss: 6.6973, val_acc: 0.7933\n",
      "Epoch [6], train_loss: 0.0332, val_loss: 6.6886, val_acc: 0.7933\n",
      "Epoch [7], train_loss: 0.0340, val_loss: 10.0069, val_acc: 0.8029\n",
      "Epoch [8], train_loss: 0.0885, val_loss: 4.2373, val_acc: 0.7837\n",
      "Epoch [9], train_loss: 0.0454, val_loss: 5.2352, val_acc: 0.7837\n",
      "Epoch [10], train_loss: 0.0372, val_loss: 5.3393, val_acc: 0.7885\n",
      "Epoch [11], train_loss: 0.0360, val_loss: 5.2771, val_acc: 0.7837\n",
      "Epoch [12], train_loss: 0.0389, val_loss: 5.8459, val_acc: 0.7837\n",
      "Epoch [13], train_loss: 0.0369, val_loss: 5.1430, val_acc: 0.7933\n",
      "Epoch [14], train_loss: 0.0884, val_loss: 5.7999, val_acc: 0.7885\n",
      "Epoch [15], train_loss: 0.0852, val_loss: 6.8561, val_acc: 0.7981\n",
      "Epoch [16], train_loss: 0.1153, val_loss: 7.4000, val_acc: 0.8029\n",
      "Epoch [17], train_loss: 0.2146, val_loss: 2.7865, val_acc: 0.7933\n",
      "Epoch [18], train_loss: 0.0772, val_loss: 5.0367, val_acc: 0.7933\n",
      "Epoch [19], train_loss: 0.0365, val_loss: 8.9951, val_acc: 0.8125\n",
      "Epoch [20], train_loss: 0.0673, val_loss: 3.1960, val_acc: 0.7885\n",
      "Epoch [21], train_loss: 0.0541, val_loss: 5.1294, val_acc: 0.7933\n",
      "Epoch [22], train_loss: 0.0463, val_loss: 5.2362, val_acc: 0.7933\n",
      "Epoch [23], train_loss: 0.0411, val_loss: 6.5737, val_acc: 0.7981\n",
      "Epoch [24], train_loss: 0.0386, val_loss: 6.3041, val_acc: 0.7933\n",
      "Epoch [25], train_loss: 0.0468, val_loss: 4.4894, val_acc: 0.7981\n",
      "Epoch [26], train_loss: 0.0417, val_loss: 4.0700, val_acc: 0.7933\n",
      "Epoch [27], train_loss: 0.0373, val_loss: 4.8373, val_acc: 0.8029\n",
      "Epoch [28], train_loss: 0.0332, val_loss: 5.3160, val_acc: 0.7981\n",
      "Epoch [29], train_loss: 0.0328, val_loss: 5.6260, val_acc: 0.8029\n"
     ]
    }
   ],
   "source": [
    "history = fit(30, lr, model, train_dl, val_dl, opt_func)"
   ]
  },
  {
   "cell_type": "code",
   "execution_count": 44,
   "id": "41fde169",
   "metadata": {},
   "outputs": [],
   "source": [
    "from sklearn.metrics import confusion_matrix\n",
    "\n",
    "@torch.no_grad()\n",
    "def eval_model(model,dataset):\n",
    "    model.eval()\n",
    "    y_labels = []\n",
    "    y_preds = []\n",
    "    \n",
    "    for images,labels in dataset:\n",
    "        out = model(images)\n",
    "        preds = torch.argmax(out,1).data.cpu().numpy()\n",
    "        y_preds.extend(preds)\n",
    "        labels = labels.data.cpu().numpy()\n",
    "        y_labels.extend(labels)\n",
    "        \n",
    "    cf_matrix = confusion_matrix(y_labels, y_preds)\n",
    "    return cf_matrix\n",
    "\n",
    "def calculate_metrics(model_path,dataset):\n",
    "    model = malwareClassification()\n",
    "    model.load_state_dict(torch.load(model_path))\n",
    "    test_result = evaluate(model,dataset)\n",
    "#     print(test_result['val_acc'])\n",
    "    return test_result"
   ]
  },
  {
   "cell_type": "code",
   "execution_count": 47,
   "id": "62105365",
   "metadata": {},
   "outputs": [
    {
     "data": {
      "text/plain": [
       "{'val_loss': 7.055666446685791,\n",
       " 'val_acc': 0.8354289531707764,\n",
       " 'True Positive': 97,\n",
       " 'False Positive': 26,\n",
       " 'True Negative': 74,\n",
       " 'False Negative': 8}"
      ]
     },
     "execution_count": 47,
     "metadata": {},
     "output_type": "execute_result"
    }
   ],
   "source": [
    "calculate_metrics('Saved_models/malware_class_10k_tok_0.8028846383094788.pth',test_dl)"
   ]
  },
  {
   "cell_type": "code",
   "execution_count": null,
   "id": "d2f79242",
   "metadata": {},
   "outputs": [],
   "source": []
  }
 ],
 "metadata": {
  "kernelspec": {
   "display_name": "Environment (conda_pytorch_p38)",
   "language": "python",
   "name": "conda_pytorch_p38"
  },
  "language_info": {
   "codemirror_mode": {
    "name": "ipython",
    "version": 3
   },
   "file_extension": ".py",
   "mimetype": "text/x-python",
   "name": "python",
   "nbconvert_exporter": "python",
   "pygments_lexer": "ipython3",
   "version": "3.8.12"
  }
 },
 "nbformat": 4,
 "nbformat_minor": 5
}
