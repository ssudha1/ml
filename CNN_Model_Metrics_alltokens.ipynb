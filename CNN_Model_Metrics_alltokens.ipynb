{
 "cells": [
  {
   "cell_type": "code",
   "execution_count": 31,
   "id": "fdcc4114",
   "metadata": {},
   "outputs": [],
   "source": [
    "import torch\n",
    "import torchvision\n",
    "from torchvision import transforms\n",
    "from torchvision.datasets import ImageFolder"
   ]
  },
  {
   "cell_type": "code",
   "execution_count": 32,
   "id": "e11ed092",
   "metadata": {},
   "outputs": [],
   "source": [
    "train_path = 'CNN_alltokens/train'\n",
    "test_path = 'CNN_alltokens/test'\n",
    "valid_path = 'CNN_alltokens/validation'"
   ]
  },
  {
   "cell_type": "code",
   "execution_count": 33,
   "id": "9887137e",
   "metadata": {},
   "outputs": [],
   "source": [
    "img_height = 288\n",
    "img_width = 432 "
   ]
  },
  {
   "cell_type": "code",
   "execution_count": 34,
   "id": "035524dc",
   "metadata": {},
   "outputs": [],
   "source": [
    "train_dataset = ImageFolder(train_path,transform = transforms.Compose([\n",
    "    transforms.Resize((150,150)),transforms.ToTensor()\n",
    "]))\n",
    "val_dataset = ImageFolder(valid_path,transform = transforms.Compose([\n",
    "    transforms.Resize((150,150)),transforms.ToTensor()\n",
    "]))\n",
    "test_dataset = ImageFolder(test_path,transform = transforms.Compose([\n",
    "    transforms.Resize((150,150)),transforms.ToTensor()\n",
    "]))"
   ]
  },
  {
   "cell_type": "code",
   "execution_count": 35,
   "id": "aa3cef65",
   "metadata": {},
   "outputs": [],
   "source": [
    "from torch.utils.data.dataloader import DataLoader\n",
    "batch_size=16\n",
    "train_dl = DataLoader(train_dataset, batch_size, shuffle = True, num_workers = 4, pin_memory = True)\n",
    "val_dl = DataLoader(val_dataset, batch_size, num_workers = 4, pin_memory = True)\n",
    "test_dl = DataLoader(test_dataset, batch_size, num_workers = 4, pin_memory = True)"
   ]
  },
  {
   "cell_type": "code",
   "execution_count": 36,
   "id": "dc280336",
   "metadata": {},
   "outputs": [],
   "source": [
    "import torch.nn as nn\n",
    "import torch.nn.functional as F\n",
    "\n",
    "def accuracy(outputs, labels):\n",
    "    _, preds = torch.max(outputs, dim=1)\n",
    "    return torch.tensor(torch.sum(preds == labels).item() / len(preds))\n",
    "\n",
    "def confusion(prediction, truth):\n",
    "    \"\"\" Returns the confusion matrix for the values in the `prediction` and `truth`\n",
    "    tensors, i.e. the amount of positions where the values of `prediction`\n",
    "    and `truth` are\n",
    "    - 1 and 1 (True Positive)\n",
    "    - 1 and 0 (False Positive)\n",
    "    - 0 and 0 (True Negative)\n",
    "    - 0 and 1 (False Negative)\n",
    "    \"\"\"\n",
    "\n",
    "    confusion_vector = prediction / truth\n",
    "    # Element-wise division of the 2 tensors returns a new tensor which holds a\n",
    "    # unique value for each case:\n",
    "    #   1     where prediction and truth are 1 (True Positive)\n",
    "    #   inf   where prediction is 1 and truth is 0 (False Positive)\n",
    "    #   nan   where prediction and truth are 0 (True Negative)\n",
    "    #   0     where prediction is 0 and truth is 1 (False Negative)\n",
    "\n",
    "    true_positives = torch.sum(confusion_vector == 1)\n",
    "    false_positives = torch.sum(confusion_vector == float('inf'))\n",
    "    true_negatives = torch.sum(torch.isnan(confusion_vector))\n",
    "    false_negatives = torch.sum(confusion_vector == 0)\n",
    "\n",
    "    return true_positives, false_positives, true_negatives, false_negatives\n",
    "\n",
    "class ImageClassificationBase(nn.Module):\n",
    "    \n",
    "    def training_step(self, batch):\n",
    "        images, labels = batch \n",
    "        out = self(images)                  # Generate predictions\n",
    "        loss = F.cross_entropy(out, labels) # Calculate loss\n",
    "        return loss\n",
    "    \n",
    "    def validation_step(self, batch):\n",
    "        images, labels = batch \n",
    "        out = self(images)                    # Generate predictions\n",
    "        loss = F.cross_entropy(out, labels)   # Calculate loss\n",
    "        acc = accuracy(out, labels)           # Calculate accuracy\n",
    "        tp,fp,tn,fn = confusion(torch.argmax(out,1),labels)\n",
    "        return {'val_loss': loss.detach(), 'val_acc': acc,'True Positive':tp,'False Positive':fp,'True Negative':tn,'False Negative':fn}\n",
    "        \n",
    "    def validation_epoch_end(self, outputs):\n",
    "        batch_losses = [x['val_loss'] for x in outputs]\n",
    "        epoch_loss = torch.stack(batch_losses).mean()   # Combine losses\n",
    "        batch_accs = [x['val_acc'] for x in outputs]\n",
    "        epoch_acc = torch.stack(batch_accs).mean()      # Combine accuracies\n",
    "        batch_tp = [x['True Positive'] for x in outputs]\n",
    "        epoch_tp = torch.stack(batch_tp).sum()\n",
    "        batch_fp = [x['False Positive'] for x in outputs]\n",
    "        epoch_fp = torch.stack(batch_fp).sum()\n",
    "        batch_tn = [x['True Negative'] for x in outputs]\n",
    "        epoch_tn = torch.stack(batch_tn).sum()\n",
    "        batch_fn = [x['False Negative'] for x in outputs]\n",
    "        epoch_fn = torch.stack(batch_fn).sum()\n",
    "        return {'val_loss': epoch_loss.item(), 'val_acc': epoch_acc.item(),'True Positive':epoch_tp.item(),'False Positive':epoch_fp.item(),'True Negative':epoch_tn.item(),'False Negative':epoch_fn.item()}\n",
    "    \n",
    "    def epoch_end(self, epoch, result):\n",
    "        print(\"Epoch [{}], train_loss: {:.4f}, val_loss: {:.4f}, val_acc: {:.4f}\".format(\n",
    "            epoch, result['train_loss'], result['val_loss'], result['val_acc']))"
   ]
  },
  {
   "cell_type": "code",
   "execution_count": 37,
   "id": "c65576c0",
   "metadata": {},
   "outputs": [],
   "source": [
    "class malwareClassification(ImageClassificationBase):\n",
    "    def __init__(self):\n",
    "        super().__init__()\n",
    "        self.network = nn.Sequential(\n",
    "            \n",
    "            nn.Conv2d(3, 32, kernel_size = 3, padding = 1),\n",
    "            nn.ReLU(),\n",
    "            nn.Conv2d(32,64, kernel_size = 3, stride = 1, padding = 1),\n",
    "            nn.ReLU(),\n",
    "            nn.MaxPool2d(2,2),\n",
    "            nn.Flatten(),\n",
    "            nn.Linear(360000,2)\n",
    "        )\n",
    "    \n",
    "    def forward(self, xb):\n",
    "        return self.network(xb)"
   ]
  },
  {
   "cell_type": "code",
   "execution_count": 38,
   "id": "143fef50",
   "metadata": {},
   "outputs": [],
   "source": [
    "@torch.no_grad()\n",
    "def evaluate(model, val_loader):\n",
    "    model.eval()\n",
    "    outputs = [model.validation_step(batch) for batch in val_loader]\n",
    "    return model.validation_epoch_end(outputs)\n",
    "\n",
    "def fit(epochs, lr, model, train_loader, val_loader, opt_func = torch.optim.SGD):\n",
    "    \n",
    "    history = []\n",
    "    optimizer = opt_func(model.parameters(),lr)\n",
    "    for epoch in range(epochs):\n",
    "        \n",
    "        model.train()\n",
    "        train_losses = []\n",
    "        for batch in train_loader:\n",
    "            loss = model.training_step(batch)\n",
    "            train_losses.append(loss)\n",
    "            loss.backward()\n",
    "            optimizer.step()\n",
    "            optimizer.zero_grad()\n",
    "            \n",
    "        result = evaluate(model, val_loader)\n",
    "        result['train_loss'] = torch.stack(train_losses).mean().item()\n",
    "        model.epoch_end(epoch, result)\n",
    "        history.append(result)\n",
    "        torch.save(model.state_dict(), 'Saved_models/'+'malware_class_all_tok_'+ str(result['val_acc'])+'.pth')\n",
    "    \n",
    "    return history"
   ]
  },
  {
   "cell_type": "code",
   "execution_count": 39,
   "id": "bd59f088",
   "metadata": {},
   "outputs": [],
   "source": [
    "num_epochs = 50\n",
    "opt_func = torch.optim.Adam\n",
    "lr = 0.001\n",
    "model = malwareClassification()"
   ]
  },
  {
   "cell_type": "code",
   "execution_count": 43,
   "id": "6d269605",
   "metadata": {},
   "outputs": [
    {
     "name": "stdout",
     "output_type": "stream",
     "text": [
      "Epoch [0], train_loss: 0.0675, val_loss: 8.0174, val_acc: 0.7933\n",
      "Epoch [1], train_loss: 0.0358, val_loss: 11.3902, val_acc: 0.7837\n",
      "Epoch [2], train_loss: 0.0333, val_loss: 14.4856, val_acc: 0.7837\n",
      "Epoch [3], train_loss: 0.0712, val_loss: 9.7913, val_acc: 0.7885\n",
      "Epoch [4], train_loss: 0.1037, val_loss: 7.5130, val_acc: 0.8029\n",
      "Epoch [5], train_loss: 0.2918, val_loss: 7.9578, val_acc: 0.8125\n"
     ]
    }
   ],
   "source": [
    "history = fit(30, lr, model, train_dl, val_dl, opt_func)"
   ]
  },
  {
   "cell_type": "code",
   "execution_count": 41,
   "id": "29d9f316",
   "metadata": {},
   "outputs": [],
   "source": [
    "from sklearn.metrics import confusion_matrix\n",
    "\n",
    "@torch.no_grad()\n",
    "def eval_model(model,dataset):\n",
    "    model.eval()\n",
    "    y_labels = []\n",
    "    y_preds = []\n",
    "    \n",
    "    for images,labels in dataset:\n",
    "        out = model(images)\n",
    "        preds = torch.argmax(out,1).data.cpu().numpy()\n",
    "        y_preds.extend(preds)\n",
    "        labels = labels.data.cpu().numpy()\n",
    "        y_labels.extend(labels)\n",
    "        \n",
    "    cf_matrix = confusion_matrix(y_labels, y_preds)\n",
    "    return cf_matrix\n",
    "\n",
    "def calculate_metrics(model_path,dataset):\n",
    "    model = malwareClassification()\n",
    "    model.load_state_dict(torch.load(model_path))\n",
    "    test_result = evaluate(model,dataset)\n",
    "#     print(test_result['val_acc'])\n",
    "    return test_result"
   ]
  },
  {
   "cell_type": "code",
   "execution_count": 44,
   "id": "4d708ac4",
   "metadata": {},
   "outputs": [
    {
     "data": {
      "text/plain": [
       "{'val_loss': 8.191126823425293,\n",
       " 'val_acc': 0.8306213021278381,\n",
       " 'True Positive': 98,\n",
       " 'False Positive': 28,\n",
       " 'True Negative': 72,\n",
       " 'False Negative': 7}"
      ]
     },
     "execution_count": 44,
     "metadata": {},
     "output_type": "execute_result"
    }
   ],
   "source": [
    "calculate_metrics('Saved_models/malware_class_all_tok_0.8028846383094788.pth',test_dl)"
   ]
  },
  {
   "cell_type": "code",
   "execution_count": null,
   "id": "07dfc616",
   "metadata": {},
   "outputs": [],
   "source": []
  }
 ],
 "metadata": {
  "kernelspec": {
   "display_name": "Environment (conda_pytorch_p38)",
   "language": "python",
   "name": "conda_pytorch_p38"
  },
  "language_info": {
   "codemirror_mode": {
    "name": "ipython",
    "version": 3
   },
   "file_extension": ".py",
   "mimetype": "text/x-python",
   "name": "python",
   "nbconvert_exporter": "python",
   "pygments_lexer": "ipython3",
   "version": "3.8.12"
  }
 },
 "nbformat": 4,
 "nbformat_minor": 5
}
